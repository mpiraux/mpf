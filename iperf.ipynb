{
 "cells": [
  {
   "cell_type": "code",
   "execution_count": null,
   "metadata": {},
   "outputs": [],
   "source": [
    "import sys, importlib\n",
    "sys.argv = [sys.argv[0], '-c', 'CLUSTER_FILE']\n",
    "if 'mpf' in globals():\n",
    "    importlib.reload(mpf)\n",
    "import mpf\n",
    "\n",
    "\n",
    "mpf.add_variable('parallel', range(1,9))\n",
    "mpf.add_variable('zerocopy', {'': 'disabled', '-Z': 'enabled'})\n",
    "\n",
    "@mpf.run(role='server')\n",
    "def start_server():\n",
    "    %ex iperf3 -D -s -1 > /dev/null\n",
    "\n",
    "@mpf.run(role='client', delay=1)\n",
    "def start_client(mpf_ctx, parallel, zerocopy):\n",
    "    result = %ex iperf3 -f k -t 10 -P $parallel $zerocopy -c {mpf_ctx['roles']['server']['interfaces'][0]['ip']} | tail -n 3 | grep -ioE \"[0-9.]+ [kmg]bits\"\n",
    "    return {'goodput': result[0]}\n",
    "\n",
    "df = mpf.run_experiment()\n",
    "df"
   ]
  }
 ],
 "metadata": {
  "kernelspec": {
   "display_name": "Python 3",
   "language": "python",
   "name": "python3"
  },
  "language_info": {
   "codemirror_mode": {
    "name": "ipython",
    "version": 3
   },
   "file_extension": ".py",
   "mimetype": "text/x-python",
   "name": "python",
   "nbconvert_exporter": "python",
   "pygments_lexer": "ipython3",
   "version": "3.11.5"
  },
  "orig_nbformat": 4,
  "vscode": {
   "interpreter": {
    "hash": "e7370f93d1d0cde622a1f8e1c04877d8463912d04d973331ad4851f04de6915a"
   }
  }
 },
 "nbformat": 4,
 "nbformat_minor": 2
}
